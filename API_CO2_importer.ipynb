{
 "cells": [
  {
   "cell_type": "markdown",
   "metadata": {},
   "source": [
    "Task: Data extraction through API (data source: Electrica De Espana)\n",
    "Source: https://www.ree.es/es/apidatos"
   ]
  },
  {
   "cell_type": "code",
   "execution_count": 2,
   "metadata": {},
   "outputs": [],
   "source": [
    "import pandas as pd\n",
    "import json\n",
    "import requests\n",
    "import matplotlib.pyplot as plt"
   ]
  },
  {
   "cell_type": "code",
   "execution_count": 3,
   "metadata": {},
   "outputs": [],
   "source": [
    "def co2_evolution(start_date, end_date):\n",
    "    #Enter the start_date and end_date in the following format: YYYY-MM-DDTHH:MM\n",
    "\n",
    "    # API get request\n",
    "    response = requests.get(f\"https://apidatos.ree.es/en/datos/generacion/evolucion-estructura-generacion-emisiones-asociadas?start_date={start_date}&end_date={end_date}&time_trunc=day\")\n",
    "    response_json = response.json()\n",
    "    data = response_json\n",
    "    \n",
    "    # Accessing data for \"non-renewable type (Con emisiones de CO2 eq.)\" (\"id\": 1)\n",
    "    data1 = data[\"included\"][0][\"attributes\"][\"values\"]\n",
    "    evolution_co2_1 = pd.DataFrame(data1)\n",
    "    evolution_co2_1[\"Type_id\"] = 1\n",
    "    evolution_co2_1[\"Description\"] = \"CO2 emission eq.\"\n",
    "\n",
    "    # Accessing data for \"renewable type (Sin emisiones de CO2 eq.)\" (\"id\": 2)\n",
    "    data2 = data[\"included\"][1][\"attributes\"][\"values\"]\n",
    "    evolution_co2_2 = pd.DataFrame(data2)\n",
    "    evolution_co2_2[\"Type_id\"] = 2\n",
    "    evolution_co2_2[\"Description\"] = \"No CO2 emission eq.\"\n",
    "\n",
    "    # Concat dataframes\n",
    "    frames = [evolution_co2_1, evolution_co2_2]\n",
    "    evolution_co2 = pd.concat(frames).reset_index(drop=True)\n",
    "    evolution_co2['datetime'] = pd.to_datetime(evolution_co2[\"datetime\"],format='%Y-%m')\n",
    "    evolution_co2 = evolution_co2.rename(columns={'value': 'Value', \"datetime\": \"Date\", \"percentage\": \"Percentage\"})\n",
    "    return evolution_co2"
   ]
  },
  {
   "cell_type": "code",
   "execution_count": 4,
   "metadata": {},
   "outputs": [
    {
     "data": {
      "text/html": [
       "<div>\n",
       "<style scoped>\n",
       "    .dataframe tbody tr th:only-of-type {\n",
       "        vertical-align: middle;\n",
       "    }\n",
       "\n",
       "    .dataframe tbody tr th {\n",
       "        vertical-align: top;\n",
       "    }\n",
       "\n",
       "    .dataframe thead th {\n",
       "        text-align: right;\n",
       "    }\n",
       "</style>\n",
       "<table border=\"1\" class=\"dataframe\">\n",
       "  <thead>\n",
       "    <tr style=\"text-align: right;\">\n",
       "      <th></th>\n",
       "      <th>Value</th>\n",
       "      <th>Percentage</th>\n",
       "      <th>Date</th>\n",
       "      <th>Type_id</th>\n",
       "      <th>Description</th>\n",
       "    </tr>\n",
       "  </thead>\n",
       "  <tbody>\n",
       "    <tr>\n",
       "      <th>0</th>\n",
       "      <td>202459.6665</td>\n",
       "      <td>0.340023</td>\n",
       "      <td>2020-01-01 00:00:00+01:00</td>\n",
       "      <td>1</td>\n",
       "      <td>CO2 emission eq.</td>\n",
       "    </tr>\n",
       "    <tr>\n",
       "      <th>1</th>\n",
       "      <td>251804.3225</td>\n",
       "      <td>0.355718</td>\n",
       "      <td>2020-01-02 00:00:00+01:00</td>\n",
       "      <td>1</td>\n",
       "      <td>CO2 emission eq.</td>\n",
       "    </tr>\n",
       "    <tr>\n",
       "      <th>2</th>\n",
       "      <td>236659.0320</td>\n",
       "      <td>0.345087</td>\n",
       "      <td>2020-01-03 00:00:00+01:00</td>\n",
       "      <td>1</td>\n",
       "      <td>CO2 emission eq.</td>\n",
       "    </tr>\n",
       "    <tr>\n",
       "      <th>3</th>\n",
       "      <td>194786.5415</td>\n",
       "      <td>0.289596</td>\n",
       "      <td>2020-01-04 00:00:00+01:00</td>\n",
       "      <td>1</td>\n",
       "      <td>CO2 emission eq.</td>\n",
       "    </tr>\n",
       "    <tr>\n",
       "      <th>4</th>\n",
       "      <td>199303.8105</td>\n",
       "      <td>0.325875</td>\n",
       "      <td>2020-01-05 00:00:00+01:00</td>\n",
       "      <td>1</td>\n",
       "      <td>CO2 emission eq.</td>\n",
       "    </tr>\n",
       "    <tr>\n",
       "      <th>...</th>\n",
       "      <td>...</td>\n",
       "      <td>...</td>\n",
       "      <td>...</td>\n",
       "      <td>...</td>\n",
       "      <td>...</td>\n",
       "    </tr>\n",
       "    <tr>\n",
       "      <th>329</th>\n",
       "      <td>476097.9560</td>\n",
       "      <td>0.708120</td>\n",
       "      <td>2020-06-11 00:00:00+02:00</td>\n",
       "      <td>2</td>\n",
       "      <td>No CO2 emission eq.</td>\n",
       "    </tr>\n",
       "    <tr>\n",
       "      <th>330</th>\n",
       "      <td>531540.9020</td>\n",
       "      <td>0.768363</td>\n",
       "      <td>2020-06-12 00:00:00+02:00</td>\n",
       "      <td>2</td>\n",
       "      <td>No CO2 emission eq.</td>\n",
       "    </tr>\n",
       "    <tr>\n",
       "      <th>331</th>\n",
       "      <td>454318.6560</td>\n",
       "      <td>0.720553</td>\n",
       "      <td>2020-06-13 00:00:00+02:00</td>\n",
       "      <td>2</td>\n",
       "      <td>No CO2 emission eq.</td>\n",
       "    </tr>\n",
       "    <tr>\n",
       "      <th>332</th>\n",
       "      <td>365710.4410</td>\n",
       "      <td>0.651768</td>\n",
       "      <td>2020-06-14 00:00:00+02:00</td>\n",
       "      <td>2</td>\n",
       "      <td>No CO2 emission eq.</td>\n",
       "    </tr>\n",
       "    <tr>\n",
       "      <th>333</th>\n",
       "      <td>12564.2880</td>\n",
       "      <td>0.583072</td>\n",
       "      <td>2020-06-15 00:00:00+02:00</td>\n",
       "      <td>2</td>\n",
       "      <td>No CO2 emission eq.</td>\n",
       "    </tr>\n",
       "  </tbody>\n",
       "</table>\n",
       "<p>334 rows × 5 columns</p>\n",
       "</div>"
      ],
      "text/plain": [
       "           Value  Percentage                       Date  Type_id  \\\n",
       "0    202459.6665    0.340023  2020-01-01 00:00:00+01:00        1   \n",
       "1    251804.3225    0.355718  2020-01-02 00:00:00+01:00        1   \n",
       "2    236659.0320    0.345087  2020-01-03 00:00:00+01:00        1   \n",
       "3    194786.5415    0.289596  2020-01-04 00:00:00+01:00        1   \n",
       "4    199303.8105    0.325875  2020-01-05 00:00:00+01:00        1   \n",
       "..           ...         ...                        ...      ...   \n",
       "329  476097.9560    0.708120  2020-06-11 00:00:00+02:00        2   \n",
       "330  531540.9020    0.768363  2020-06-12 00:00:00+02:00        2   \n",
       "331  454318.6560    0.720553  2020-06-13 00:00:00+02:00        2   \n",
       "332  365710.4410    0.651768  2020-06-14 00:00:00+02:00        2   \n",
       "333   12564.2880    0.583072  2020-06-15 00:00:00+02:00        2   \n",
       "\n",
       "             Description  \n",
       "0       CO2 emission eq.  \n",
       "1       CO2 emission eq.  \n",
       "2       CO2 emission eq.  \n",
       "3       CO2 emission eq.  \n",
       "4       CO2 emission eq.  \n",
       "..                   ...  \n",
       "329  No CO2 emission eq.  \n",
       "330  No CO2 emission eq.  \n",
       "331  No CO2 emission eq.  \n",
       "332  No CO2 emission eq.  \n",
       "333  No CO2 emission eq.  \n",
       "\n",
       "[334 rows x 5 columns]"
      ]
     },
     "execution_count": 4,
     "metadata": {},
     "output_type": "execute_result"
    }
   ],
   "source": [
    "co2_evolution(\"2020-01-01T00:00\", \"2020-06-15T00:00\")"
   ]
  },
  {
   "cell_type": "code",
   "execution_count": 1,
   "metadata": {},
   "outputs": [
    {
     "ename": "NameError",
     "evalue": "name 'co2_evolution' is not defined",
     "output_type": "error",
     "traceback": [
      "\u001b[1;31m---------------------------------------------------------------------------\u001b[0m",
      "\u001b[1;31mNameError\u001b[0m                                 Traceback (most recent call last)",
      "\u001b[1;32m<ipython-input-1-9ffa23081417>\u001b[0m in \u001b[0;36m<module>\u001b[1;34m\u001b[0m\n\u001b[0;32m      1\u001b[0m \u001b[1;31m# Get the data for 2020 and 2019\u001b[0m\u001b[1;33m\u001b[0m\u001b[1;33m\u001b[0m\u001b[1;33m\u001b[0m\u001b[0m\n\u001b[1;32m----> 2\u001b[1;33m \u001b[0mco2_20\u001b[0m \u001b[1;33m=\u001b[0m \u001b[0mco2_evolution\u001b[0m\u001b[1;33m(\u001b[0m\u001b[1;34m\"2020-01-01T00:00\"\u001b[0m\u001b[1;33m,\u001b[0m \u001b[1;34m\"2020-06-15T00:00\"\u001b[0m\u001b[1;33m)\u001b[0m\u001b[1;33m\u001b[0m\u001b[1;33m\u001b[0m\u001b[0m\n\u001b[0m\u001b[0;32m      3\u001b[0m \u001b[0mco2_19\u001b[0m \u001b[1;33m=\u001b[0m \u001b[0mco2_evolution\u001b[0m\u001b[1;33m(\u001b[0m\u001b[1;34m\"2019-01-01T00:00\"\u001b[0m\u001b[1;33m,\u001b[0m \u001b[1;34m\"2019-06-15T00:00\"\u001b[0m\u001b[1;33m)\u001b[0m\u001b[1;33m\u001b[0m\u001b[1;33m\u001b[0m\u001b[0m\n",
      "\u001b[1;31mNameError\u001b[0m: name 'co2_evolution' is not defined"
     ]
    }
   ],
   "source": [
    "# Get the data for 2020 and 2019\n",
    "co2_20 = co2_evolution(\"2020-01-01T00:00\", \"2020-06-15T00:00\")\n",
    "co2_19 = co2_evolution(\"2019-01-01T00:00\", \"2019-06-15T00:00\")"
   ]
  },
  {
   "cell_type": "code",
   "execution_count": null,
   "metadata": {},
   "outputs": [],
   "source": [
    "# Export the data in a .csv format\n",
    "co2_20 = co2_20.to_csv(\"clean_db/CO2-Evolution_2020.csv\", index=False)\n",
    "co2_19 = co2_19.to_csv(\"clean_db/CO2-Evolution_2019.csv\", index=False)"
   ]
  },
  {
   "cell_type": "code",
   "execution_count": null,
   "metadata": {},
   "outputs": [],
   "source": [
    "# Analising the data\n",
    "co2_evolution(\"2020-01-01T00:00\", \"2020-06-15T00:00\").plot();"
   ]
  },
  {
   "cell_type": "markdown",
   "metadata": {},
   "source": [
    "## Alternatively"
   ]
  },
  {
   "cell_type": "code",
   "execution_count": null,
   "metadata": {},
   "outputs": [],
   "source": [
    "response = requests.get(f\"https://apidatos.ree.es/en/datos/generacion/evolucion-estructura-generacion-emisiones-asociadas?start_date=2020-01-01T00:00&end_date=2020-06-15T00:00&time_trunc=day\")\n",
    "response_json = response.json()\n",
    "data = response_json\n",
    "data = data[\"included\"]"
   ]
  },
  {
   "cell_type": "code",
   "execution_count": null,
   "metadata": {},
   "outputs": [],
   "source": [
    "df = pd.DataFrame(columns=['Value', \"Percentage\", 'Date', 'Type_id', 'Description'])\n",
    "\n",
    "for t in data:\n",
    "    desc = t[\"type\"]\n",
    "    values_list = t[\"attributes\"][\"values\"]\n",
    "    df_values = (pd.DataFrame(values_list)\n",
    "                 .assign(Description=desc)\n",
    "                 .rename(columns={\"value\": \"Value\",\n",
    "                                  \"percentage\": \"Percentage\",\n",
    "                                  \"datetime\": \"Date\"}))\n",
    "    df = pd.concat([df, df_values])"
   ]
  },
  {
   "cell_type": "code",
   "execution_count": null,
   "metadata": {},
   "outputs": [],
   "source": [
    "df"
   ]
  }
 ],
 "metadata": {
  "kernelspec": {
   "display_name": "Python 3",
   "language": "python",
   "name": "python3"
  },
  "language_info": {
   "codemirror_mode": {
    "name": "ipython",
    "version": 3
   },
   "file_extension": ".py",
   "mimetype": "text/x-python",
   "name": "python",
   "nbconvert_exporter": "python",
   "pygments_lexer": "ipython3",
   "version": "3.8.3"
  }
 },
 "nbformat": 4,
 "nbformat_minor": 4
}
