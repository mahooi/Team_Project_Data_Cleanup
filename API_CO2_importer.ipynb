{
 "cells": [
  {
   "cell_type": "markdown",
   "metadata": {},
   "source": [
    "Task: Data extraction through API (data source: Electrica De Espana)\n",
    "Source: https://www.ree.es/es/apidatos"
   ]
  },
  {
   "cell_type": "code",
   "execution_count": null,
   "metadata": {},
   "outputs": [],
   "source": [
    "import pandas as pd\n",
    "import json\n",
    "import requests\n",
    "import matplotlib.pyplot as plt"
   ]
  },
  {
   "cell_type": "code",
   "execution_count": null,
   "metadata": {},
   "outputs": [],
   "source": [
    "def co2_evolution(start_date, end_date):\n",
    "    #Enter the start_date and end_date in the following format: YYYY-MM-DDTHH:MM\n",
    "\n",
    "    # API get request\n",
    "    response = requests.get(f\"https://apidatos.ree.es/en/datos/generacion/evolucion-estructura-generacion-emisiones-asociadas?start_date={start_date}&end_date={end_date}&time_trunc=day\")\n",
    "    response_json = response.json()\n",
    "    data = response_json\n",
    "    \n",
    "    # Accessing data for \"non-renewable type (Con emisiones de CO2 eq.)\" (\"id\": 1)\n",
    "    data1 = data[\"included\"][0][\"attributes\"][\"values\"]\n",
    "    evolution_co2_1 = pd.DataFrame(data1)\n",
    "    evolution_co2_1[\"Type_id\"] = 1\n",
    "    evolution_co2_1[\"Description\"] = \"CO2 emission eq.\"\n",
    "\n",
    "    # Accessing data for \"renewable type (Sin emisiones de CO2 eq.)\" (\"id\": 2)\n",
    "    data2 = data[\"included\"][1][\"attributes\"][\"values\"]\n",
    "    evolution_co2_2 = pd.DataFrame(data2)\n",
    "    evolution_co2_2[\"Type_id\"] = 2\n",
    "    evolution_co2_2[\"Description\"] = \"No CO2 emission eq.\"\n",
    "\n",
    "    # Concat dataframes\n",
    "    frames = [evolution_co2_1, evolution_co2_2]\n",
    "    evolution_co2 = pd.concat(frames).reset_index(drop=True)\n",
    "    evolution_co2['datetime'] = pd.to_datetime(evolution_co2[\"datetime\"],format='%Y-%m')\n",
    "    evolution_co2 = evolution_co2.rename(columns={'value': 'Value', \"datetime\": \"Date\", \"percentage\": \"Percentage\"})\n",
    "    return evolution_co2"
   ]
  },
  {
   "cell_type": "code",
   "execution_count": null,
   "metadata": {},
   "outputs": [],
   "source": [
    "co2_evolution(\"2020-01-01T00:00\", \"2020-06-15T00:00\")"
   ]
  },
  {
   "cell_type": "code",
   "execution_count": null,
   "metadata": {},
   "outputs": [],
   "source": [
    "# Get the data for 2020 and 2019\n",
    "co2_20 = co2_evolution(\"2020-01-01T00:00\", \"2020-06-15T00:00\")\n",
    "co2_19 = co2_evolution(\"2019-01-01T00:00\", \"2019-06-15T00:00\")"
   ]
  },
  {
   "cell_type": "code",
   "execution_count": null,
   "metadata": {},
   "outputs": [],
   "source": [
    "# Export the data in a .csv format\n",
    "co2_20 = co2_20.to_csv(\"clean_db/CO2-Evolution_2020.csv\", index=False)\n",
    "co2_19 = co2_19.to_csv(\"clean_db/CO2-Evolution_2019.csv\", index=False)"
   ]
  },
  {
   "cell_type": "code",
   "execution_count": null,
   "metadata": {},
   "outputs": [],
   "source": [
    "# Analising the data\n",
    "co2_evolution(\"2020-01-01T00:00\", \"2020-06-15T00:00\").plot();"
   ]
  },
  {
   "cell_type": "markdown",
   "metadata": {},
   "source": [
    "## Alternatively"
   ]
  },
  {
   "cell_type": "code",
   "execution_count": null,
   "metadata": {},
   "outputs": [],
   "source": [
    "response = requests.get(f\"https://apidatos.ree.es/en/datos/generacion/evolucion-estructura-generacion-emisiones-asociadas?start_date=2020-01-01T00:00&end_date=2020-06-15T00:00&time_trunc=day\")\n",
    "response_json = response.json()\n",
    "data = response_json\n",
    "data = data[\"included\"]"
   ]
  },
  {
   "cell_type": "code",
   "execution_count": null,
   "metadata": {},
   "outputs": [],
   "source": [
    "df = pd.DataFrame(columns=['Value', \"Percentage\", 'Date', 'Type_id', 'Description'])\n",
    "\n",
    "for t in data:\n",
    "    desc = t[\"type\"]\n",
    "    values_list = t[\"attributes\"][\"values\"]\n",
    "    df_values = (pd.DataFrame(values_list)\n",
    "                 .assign(Description=desc)\n",
    "                 .rename(columns={\"value\": \"Value\",\n",
    "                                  \"percentage\": \"Percentage\",\n",
    "                                  \"datetime\": \"Date\"}))\n",
    "    df = pd.concat([df, df_values])"
   ]
  },
  {
   "cell_type": "code",
   "execution_count": null,
   "metadata": {},
   "outputs": [],
   "source": [
    "df"
   ]
  }
 ],
 "metadata": {
  "kernelspec": {
   "display_name": "Python 3",
   "language": "python",
   "name": "python3"
  },
  "language_info": {
   "codemirror_mode": {
    "name": "ipython",
    "version": 3
   },
   "file_extension": ".py",
   "mimetype": "text/x-python",
   "name": "python",
   "nbconvert_exporter": "python",
   "pygments_lexer": "ipython3",
   "version": "3.8.3"
  }
 },
 "nbformat": 4,
 "nbformat_minor": 4
}
