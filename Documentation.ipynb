{
 "cells": [
  {
   "cell_type": "markdown",
   "metadata": {},
   "source": [
    "# Butter team project: COVID impact on energy consumprion in Spain"
   ]
  },
  {
   "cell_type": "markdown",
   "metadata": {},
   "source": [
    "**Butter team** consists of Ibsy, Kosta, Maha, and Pepe"
   ]
  },
  {
   "cell_type": "markdown",
   "metadata": {},
   "source": [
    "## Introduction to the analysis"
   ]
  },
  {
   "cell_type": "markdown",
   "metadata": {},
   "source": [
    "## Data used\n",
    "   ### 1. Stay at home\n",
    "The stay-at-home is a table with the daily government policies on stay-at-home requirements or household lockdowns per country. There are four categories: 0) No measures, 1) Recommended Stay-at-home, 2) Required to Stay-at-home with exception of essential trips, 3) Required to Stay-at-home with minimal exceptions.\n",
    "\n",
    "   ### 2. REData API\n",
    "add notes\n"
   ]
  },
  {
   "cell_type": "markdown",
   "metadata": {},
   "source": [
    "## Questions you want to answer\n",
    "The main question we were aiming to answer was: **\"What was the impact of the COVID restrictions on the energy consumprion in Spain?\"** Initially, we discussed focusing on energy of households, however finding that data proved to be a challenging task, as it is quite narrow. We also considered doing the same analysis for other countries."
   ]
  },
  {
   "cell_type": "markdown",
   "metadata": {},
   "source": [
    "## Insights derived from your analysis\n",
    "TBD - waiting for plotting"
   ]
  },
  {
   "cell_type": "markdown",
   "metadata": {},
   "source": [
    "## Possible further questions and improvements\n",
    "Is this cause and effect similar in other countries? Which countries experience the biggest and smallest difference? Which areas of energy demand were most impacted by the restrictions?"
   ]
  },
  {
   "cell_type": "code",
   "execution_count": null,
   "metadata": {},
   "outputs": [],
   "source": []
  }
 ],
 "metadata": {
  "kernelspec": {
   "display_name": "Python 3",
   "language": "python",
   "name": "python3"
  },
  "language_info": {
   "codemirror_mode": {
    "name": "ipython",
    "version": 3
   },
   "file_extension": ".py",
   "mimetype": "text/x-python",
   "name": "python",
   "nbconvert_exporter": "python",
   "pygments_lexer": "ipython3",
   "version": "3.8.3"
  }
 },
 "nbformat": 4,
 "nbformat_minor": 4
}
