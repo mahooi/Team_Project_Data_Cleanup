{
 "cells": [
  {
   "cell_type": "markdown",
   "metadata": {},
   "source": [
    "# Butter team project: COVID impact on energy consumprion in Spain"
   ]
  },
  {
   "cell_type": "markdown",
   "metadata": {},
   "source": [
    "**Butter team** consists of Ibsy, Kosta, Maha, and Pepe\n",
    "**GitHub repo**: https://github.com/Gleeful-Penguin/butter_team_project"
   ]
  },
  {
   "cell_type": "markdown",
   "metadata": {},
   "source": [
    "## Introduction to the analysis\n",
    "We combined two datasets hoping to find the change of energy demand and generation between the period of January and June 2019, and January and June 2020, when COVID had an impact on the energy behavior of people in Spain. We hoped to discover if there was a significant difference between those two years, how was energy created, and was there a significant shift in emissions as a result of it. We discovered an 8% decrease after the introduction of \"stay at home\" requirements."
   ]
  },
  {
   "cell_type": "markdown",
   "metadata": {},
   "source": [
    "## Data used\n",
    "   ### 1. Stay at home (https://ourworldindata.org/policy-responses-covid)\n",
    "The stay-at-home is a table with the daily government policies on stay-at-home requirements or household lockdowns per country. There are four categories: 0) No measures, 1) Recommended Stay-at-home, 2) Required to Stay-at-home with exception of essential trips, 3) Required to Stay-at-home with minimal exceptions. we used this dataset to determine the exact days on which requirements were introduced/changed. \n",
    "\n",
    "   ### 2. REData API (https://www.ree.es/es/datos/generacion)\n",
    "The API dataset from the National Spanish Energy provider and gives detailed day-to-day insights into the current and daily historic variation of the demand for energy in Spain. Moreover, we used some of the information about the generation, and sources of energy (types) and estimated emissions. We extracted two-time perids from January to June for both 2019 and 2020 to benchmark and show the impact of the COVID restrictions minimizing the seasonal changes in energy demand and generation."
   ]
  },
  {
   "cell_type": "markdown",
   "metadata": {},
   "source": [
    "## Questions you want to answer\n",
    "The main question we were aiming to answer was: **\"What was the impact of the COVID restrictions on energy consumption in Spain?\"** Initially, we discussed focusing on the energy of households, however finding that data proved to be a challenging task, as it is quite narrow. We also considered doing the same analysis for other countries, since this data was available for the majority of countries and it would further fortify the discoveries of our analysis. However, due to time constraints we decided to limit the analysis within Spain alone."
   ]
  },
  {
   "cell_type": "markdown",
   "metadata": {},
   "source": [
    "## Insights derived from your analysis\n",
    "Spain has heavily invested in renewable energy generation, from which wind can contributes to up to 50% of the total daily energy generation and as low as 5%. As a result of that, the weather is a deciding factor on the number of emmisions released by the creation of energy. Thus having a lower energy demand does not necessarily result in lower emmissions created by day, since non-renewable energy generation is filling the gap of the lack of wind. Additionally, we discovered an 8% decrease in energy demand between the period Jan-jun 2019 and Jan-Jun 2020."
   ]
  },
  {
   "cell_type": "markdown",
   "metadata": {},
   "source": [
    "## Possible further questions and improvements\n",
    "Is this cause and effect similar in other countries? \n",
    "Which countries experience the biggest and smallest difference? \n",
    "Which areas of energy demand were most impacted by the restrictions?\n",
    "How can countries use those findings to control national emmissions?"
   ]
  }
 ],
 "metadata": {
  "kernelspec": {
   "display_name": "Python 3",
   "language": "python",
   "name": "python3"
  },
  "language_info": {
   "codemirror_mode": {
    "name": "ipython",
    "version": 3
   },
   "file_extension": ".py",
   "mimetype": "text/x-python",
   "name": "python",
   "nbconvert_exporter": "python",
   "pygments_lexer": "ipython3",
   "version": "3.8.3"
  }
 },
 "nbformat": 4,
 "nbformat_minor": 4
}
