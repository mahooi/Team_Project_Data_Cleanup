{
 "cells": [
  {
   "cell_type": "markdown",
   "metadata": {},
   "source": [
    "Task: Data extraction through API (data source: Electrica De Espana)"
   ]
  },
  {
   "cell_type": "code",
   "execution_count": null,
   "metadata": {},
   "outputs": [],
   "source": [
    "import pandas as pd\n",
    "import json\n",
    "import requests"
   ]
  },
  {
   "cell_type": "code",
   "execution_count": null,
   "metadata": {},
   "outputs": [],
   "source": [
    "def demand_evolution(start_date, end_date):\n",
    "    #Enter the start_date and end_date in the following format: YYYY-MM-DDTHH:MM\n",
    "    \n",
    "    response = requests.get(f\"https://apidatos.ree.es/en/datos/demanda/evolucion?start_date={start_date}&end_date={end_date}&time_trunc=day\")\n",
    "    response_json=response.json()\n",
    "    data=response_json[\"included\"][0][\"attributes\"][\"values\"]\n",
    "    evolution=pd.DataFrame(data)\n",
    "    evolution[\"value\"]=evolution[\"value\"].round(2)\n",
    "    evolution['datetime'] = pd.to_datetime(evolution[\"datetime\"],format='%Y-%m')\n",
    "    evolution=evolution.rename(columns={'value': 'Value', \"datetime\":\"Date\"})\n",
    "    return (evolution)"
   ]
  },
  {
   "cell_type": "code",
   "execution_count": null,
   "metadata": {},
   "outputs": [],
   "source": [
    "evo_20=demand_evolution(\"2020-01-01T00:00\", \"2020-06-15T00:00\")\n",
    "evo_20"
   ]
  },
  {
   "cell_type": "code",
   "execution_count": null,
   "metadata": {},
   "outputs": [],
   "source": [
    "evo_20=evo_20.to_csv(\"clean_db/Demand-Evolution_2020.csv\", index=False)"
   ]
  },
  {
   "cell_type": "code",
   "execution_count": null,
   "metadata": {},
   "outputs": [],
   "source": [
    "evo_19=demand_evolution(\"2019-01-01T00:00\", \"2019-06-15T00:00\")\n",
    "evo_19"
   ]
  },
  {
   "cell_type": "code",
   "execution_count": null,
   "metadata": {},
   "outputs": [],
   "source": [
    "evo_19=evo_19.to_csv(\"clean_db/Demand-Evolution_2019.csv\", index=False)"
   ]
  },
  {
   "cell_type": "code",
   "execution_count": null,
   "metadata": {},
   "outputs": [],
   "source": [
    "# Summary statistics-2019:\n",
    "\n",
    "colnames=[\"Mean\", \"Min\", \"Max\", \"Range\"]\n",
    "\n",
    "Mean=int(evo_19[\"Value\"].mean())\n",
    "Min=int(evo_19[\"Value\"].min())\n",
    "Max=int(evo_19[\"Value\"].max())\n",
    "Range=Max-Min\n",
    "Lst=[Mean, Min,Max,Range]\n",
    "\n",
    "Stats=pd.DataFrame(Lst, columns=[\"Stats\"]).transpose()\n",
    "Stats.columns=colnames\n",
    "Stats"
   ]
  },
  {
   "cell_type": "code",
   "execution_count": null,
   "metadata": {},
   "outputs": [],
   "source": [
    "# Summary statistics-2020:\n",
    "\n",
    "colnames=[\"Mean\", \"Min\", \"Max\", \"Range\"]\n",
    "\n",
    "Mean=int(evo_20[\"Value\"].mean())\n",
    "Min=int(evo_20[\"Value\"].min())\n",
    "Max=int(evo_20[\"Value\"].max())\n",
    "Range=Max-Min\n",
    "Lst=[Mean, Min,Max,Range]\n",
    "\n",
    "Stats=pd.DataFrame(Lst, columns=[\"Stats\"]).transpose()\n",
    "Stats.columns=colnames\n",
    "Stats"
   ]
  }
 ],
 "metadata": {
  "kernelspec": {
   "display_name": "Python 3",
   "language": "python",
   "name": "python3"
  },
  "language_info": {
   "codemirror_mode": {
    "name": "ipython",
    "version": 3
   },
   "file_extension": ".py",
   "mimetype": "text/x-python",
   "name": "python",
   "nbconvert_exporter": "python",
   "pygments_lexer": "ipython3",
   "version": "3.8.3"
  }
 },
 "nbformat": 4,
 "nbformat_minor": 4
}
