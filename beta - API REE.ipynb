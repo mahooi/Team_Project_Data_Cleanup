{
 "cells": [
  {
   "cell_type": "code",
   "execution_count": 50,
   "metadata": {},
   "outputs": [],
   "source": [
    "import pandas as pd\n",
    "import requests\n",
    "import json\n",
    "import pymysql as py"
   ]
  },
  {
   "cell_type": "markdown",
   "metadata": {},
   "source": [
    "# get link for the API with: english, from jan 2019 to end may 2020, \n",
    "https://apidatos.ree.es/en/datos/balance/balance-electrico?start_date=2019-01-01T00:00&end_date=2020-05-31T23:55&time_trunc=day\n",
    "\n",
    "1st jan to 11 jun\n",
    "        \n",
    "demanda >> evolucion >> variacion-demanda-mensual / demanda-tiempo-real\n",
    "generacion >> estructura-generacion && evolucion-estructura-generacion-emisiones-asociadas"
   ]
  },
  {
   "cell_type": "code",
   "execution_count": 61,
   "metadata": {
    "scrolled": true
   },
   "outputs": [],
   "source": [
    "headers = {\"accept\": \"application/json\"}\n",
    "balance=\"https://apidatos.ree.es/en/datos/generacion/estructura-generacion?start_date=2019-01-01T00:00&end_date=2020-05-31T23:59&time_trunc=month\""
   ]
  },
  {
   "cell_type": "code",
   "execution_count": 62,
   "metadata": {},
   "outputs": [],
   "source": [
    "response= requests.get(url=balance, headers=headers)"
   ]
  },
  {
   "cell_type": "code",
   "execution_count": 155,
   "metadata": {},
   "outputs": [],
   "source": [
    "balance= response.json()"
   ]
  },
  {
   "cell_type": "code",
   "execution_count": 164,
   "metadata": {},
   "outputs": [
    {
     "data": {
      "text/html": [
       "<div>\n",
       "<style scoped>\n",
       "    .dataframe tbody tr th:only-of-type {\n",
       "        vertical-align: middle;\n",
       "    }\n",
       "\n",
       "    .dataframe tbody tr th {\n",
       "        vertical-align: top;\n",
       "    }\n",
       "\n",
       "    .dataframe thead th {\n",
       "        text-align: right;\n",
       "    }\n",
       "</style>\n",
       "<table border=\"1\" class=\"dataframe\">\n",
       "  <thead>\n",
       "    <tr style=\"text-align: right;\">\n",
       "      <th></th>\n",
       "      <th>type</th>\n",
       "      <th>id</th>\n",
       "      <th>groupId</th>\n",
       "      <th>attributes</th>\n",
       "    </tr>\n",
       "  </thead>\n",
       "  <tbody>\n",
       "    <tr>\n",
       "      <th>0</th>\n",
       "      <td>Hydro</td>\n",
       "      <td>10288</td>\n",
       "      <td>None</td>\n",
       "      <td>{'title': 'Hydro', 'description': None, 'color...</td>\n",
       "    </tr>\n",
       "    <tr>\n",
       "      <th>1</th>\n",
       "      <td>Pumped storage</td>\n",
       "      <td>1445</td>\n",
       "      <td>None</td>\n",
       "      <td>{'title': 'Pumped storage', 'description': Non...</td>\n",
       "    </tr>\n",
       "    <tr>\n",
       "      <th>2</th>\n",
       "      <td>Nuclear</td>\n",
       "      <td>1446</td>\n",
       "      <td>None</td>\n",
       "      <td>{'title': 'Nuclear', 'description': None, 'col...</td>\n",
       "    </tr>\n",
       "    <tr>\n",
       "      <th>3</th>\n",
       "      <td>Coal</td>\n",
       "      <td>10289</td>\n",
       "      <td>None</td>\n",
       "      <td>{'title': 'Coal', 'description': None, 'color'...</td>\n",
       "    </tr>\n",
       "    <tr>\n",
       "      <th>4</th>\n",
       "      <td>Fuel + Gas</td>\n",
       "      <td>10290</td>\n",
       "      <td>None</td>\n",
       "      <td>{'title': 'Fuel + Gas', 'description': None, '...</td>\n",
       "    </tr>\n",
       "    <tr>\n",
       "      <th>5</th>\n",
       "      <td>Combined cycle</td>\n",
       "      <td>1454</td>\n",
       "      <td>None</td>\n",
       "      <td>{'title': 'Combined cycle', 'description': Non...</td>\n",
       "    </tr>\n",
       "    <tr>\n",
       "      <th>6</th>\n",
       "      <td>Hydroeolian</td>\n",
       "      <td>1455</td>\n",
       "      <td>None</td>\n",
       "      <td>{'title': 'Hydroeolian', 'description': None, ...</td>\n",
       "    </tr>\n",
       "    <tr>\n",
       "      <th>7</th>\n",
       "      <td>Wind</td>\n",
       "      <td>10291</td>\n",
       "      <td>None</td>\n",
       "      <td>{'title': 'Wind', 'description': None, 'color'...</td>\n",
       "    </tr>\n",
       "    <tr>\n",
       "      <th>8</th>\n",
       "      <td>Solar photovoltaic</td>\n",
       "      <td>1458</td>\n",
       "      <td>None</td>\n",
       "      <td>{'title': 'Solar photovoltaic', 'description':...</td>\n",
       "    </tr>\n",
       "    <tr>\n",
       "      <th>9</th>\n",
       "      <td>Thermal solar</td>\n",
       "      <td>1459</td>\n",
       "      <td>None</td>\n",
       "      <td>{'title': 'Thermal solar', 'description': None...</td>\n",
       "    </tr>\n",
       "    <tr>\n",
       "      <th>10</th>\n",
       "      <td>Other renewables</td>\n",
       "      <td>10292</td>\n",
       "      <td>None</td>\n",
       "      <td>{'title': 'Other renewables', 'description': N...</td>\n",
       "    </tr>\n",
       "    <tr>\n",
       "      <th>11</th>\n",
       "      <td>Cogeneration</td>\n",
       "      <td>10293</td>\n",
       "      <td>None</td>\n",
       "      <td>{'title': 'Cogeneration', 'description': None,...</td>\n",
       "    </tr>\n",
       "    <tr>\n",
       "      <th>12</th>\n",
       "      <td>Non-renewable waste</td>\n",
       "      <td>10294</td>\n",
       "      <td>None</td>\n",
       "      <td>{'title': 'Non-renewable waste', 'description'...</td>\n",
       "    </tr>\n",
       "    <tr>\n",
       "      <th>13</th>\n",
       "      <td>Renewable waste</td>\n",
       "      <td>10295</td>\n",
       "      <td>None</td>\n",
       "      <td>{'title': 'Renewable waste', 'description': No...</td>\n",
       "    </tr>\n",
       "  </tbody>\n",
       "</table>\n",
       "</div>"
      ],
      "text/plain": [
       "                   type     id groupId  \\\n",
       "0                 Hydro  10288    None   \n",
       "1        Pumped storage   1445    None   \n",
       "2               Nuclear   1446    None   \n",
       "3                  Coal  10289    None   \n",
       "4            Fuel + Gas  10290    None   \n",
       "5        Combined cycle   1454    None   \n",
       "6           Hydroeolian   1455    None   \n",
       "7                  Wind  10291    None   \n",
       "8    Solar photovoltaic   1458    None   \n",
       "9         Thermal solar   1459    None   \n",
       "10     Other renewables  10292    None   \n",
       "11         Cogeneration  10293    None   \n",
       "12  Non-renewable waste  10294    None   \n",
       "13      Renewable waste  10295    None   \n",
       "\n",
       "                                           attributes  \n",
       "0   {'title': 'Hydro', 'description': None, 'color...  \n",
       "1   {'title': 'Pumped storage', 'description': Non...  \n",
       "2   {'title': 'Nuclear', 'description': None, 'col...  \n",
       "3   {'title': 'Coal', 'description': None, 'color'...  \n",
       "4   {'title': 'Fuel + Gas', 'description': None, '...  \n",
       "5   {'title': 'Combined cycle', 'description': Non...  \n",
       "6   {'title': 'Hydroeolian', 'description': None, ...  \n",
       "7   {'title': 'Wind', 'description': None, 'color'...  \n",
       "8   {'title': 'Solar photovoltaic', 'description':...  \n",
       "9   {'title': 'Thermal solar', 'description': None...  \n",
       "10  {'title': 'Other renewables', 'description': N...  \n",
       "11  {'title': 'Cogeneration', 'description': None,...  \n",
       "12  {'title': 'Non-renewable waste', 'description'...  \n",
       "13  {'title': 'Renewable waste', 'description': No...  "
      ]
     },
     "execution_count": 164,
     "metadata": {},
     "output_type": "execute_result"
    }
   ],
   "source": [
    "pd.DataFrame(balance[\"included\"])"
   ]
  },
  {
   "cell_type": "code",
   "execution_count": 163,
   "metadata": {
    "scrolled": true
   },
   "outputs": [
    {
     "name": "stdout",
     "output_type": "stream",
     "text": [
      "['Hydro']\n",
      "['Hydro', 'Pumped storage']\n",
      "['Hydro', 'Pumped storage', 'Nuclear']\n",
      "['Hydro', 'Pumped storage', 'Nuclear', 'Coal']\n",
      "['Hydro', 'Pumped storage', 'Nuclear', 'Coal', 'Fuel + Gas']\n",
      "['Hydro', 'Pumped storage', 'Nuclear', 'Coal', 'Fuel + Gas', 'Combined cycle']\n",
      "['Hydro', 'Pumped storage', 'Nuclear', 'Coal', 'Fuel + Gas', 'Combined cycle', 'Hydroeolian']\n",
      "['Hydro', 'Pumped storage', 'Nuclear', 'Coal', 'Fuel + Gas', 'Combined cycle', 'Hydroeolian', 'Wind']\n",
      "['Hydro', 'Pumped storage', 'Nuclear', 'Coal', 'Fuel + Gas', 'Combined cycle', 'Hydroeolian', 'Wind', 'Solar photovoltaic']\n",
      "['Hydro', 'Pumped storage', 'Nuclear', 'Coal', 'Fuel + Gas', 'Combined cycle', 'Hydroeolian', 'Wind', 'Solar photovoltaic', 'Thermal solar']\n",
      "['Hydro', 'Pumped storage', 'Nuclear', 'Coal', 'Fuel + Gas', 'Combined cycle', 'Hydroeolian', 'Wind', 'Solar photovoltaic', 'Thermal solar', 'Other renewables']\n",
      "['Hydro', 'Pumped storage', 'Nuclear', 'Coal', 'Fuel + Gas', 'Combined cycle', 'Hydroeolian', 'Wind', 'Solar photovoltaic', 'Thermal solar', 'Other renewables', 'Cogeneration']\n",
      "['Hydro', 'Pumped storage', 'Nuclear', 'Coal', 'Fuel + Gas', 'Combined cycle', 'Hydroeolian', 'Wind', 'Solar photovoltaic', 'Thermal solar', 'Other renewables', 'Cogeneration', 'Non-renewable waste']\n",
      "['Hydro', 'Pumped storage', 'Nuclear', 'Coal', 'Fuel + Gas', 'Combined cycle', 'Hydroeolian', 'Wind', 'Solar photovoltaic', 'Thermal solar', 'Other renewables', 'Cogeneration', 'Non-renewable waste', 'Renewable waste']\n"
     ]
    }
   ],
   "source": [
    "\n"
   ]
  },
  {
   "cell_type": "code",
   "execution_count": 120,
   "metadata": {},
   "outputs": [
    {
     "data": {
      "text/plain": [
       "type                                                      Hydro\n",
       "id                                                        10288\n",
       "groupId                                                    None\n",
       "attributes    {'title': 'Hydro', 'description': None, 'color...\n",
       "Name: 0, dtype: object"
      ]
     },
     "execution_count": 120,
     "metadata": {},
     "output_type": "execute_result"
    }
   ],
   "source": []
  },
  {
   "cell_type": "code",
   "execution_count": 39,
   "metadata": {},
   "outputs": [
    {
     "data": {
      "text/plain": [
       "{'value': 2127215.051,\n",
       " 'percentage': 0.08651240226195181,\n",
       " 'datetime': '2019-01-01T00:00:00.000+01:00'}"
      ]
     },
     "execution_count": 39,
     "metadata": {},
     "output_type": "execute_result"
    }
   ],
   "source": []
  },
  {
   "cell_type": "code",
   "execution_count": 60,
   "metadata": {},
   "outputs": [
    {
     "data": {
      "text/plain": [
       "[{'value': 2127215.051,\n",
       "  'percentage': 0.08651240226195181,\n",
       "  'datetime': '2019-01-01T00:00:00.000+01:00'},\n",
       " {'value': 2483405.474,\n",
       "  'percentage': 0.12071258900609377,\n",
       "  'datetime': '2019-02-01T00:00:00.000+01:00'},\n",
       " {'value': 2132667.288,\n",
       "  'percentage': 0.10215918667969157,\n",
       "  'datetime': '2019-03-01T00:00:00.000+01:00'},\n",
       " {'value': 1926065.412,\n",
       "  'percentage': 0.09720449278642089,\n",
       "  'datetime': '2019-04-01T00:00:00.000+02:00'},\n",
       " {'value': 1935367.585,\n",
       "  'percentage': 0.09390792773637145,\n",
       "  'datetime': '2019-05-01T00:00:00.000+02:00'},\n",
       " {'value': 1626545.723,\n",
       "  'percentage': 0.07823430531305603,\n",
       "  'datetime': '2019-06-01T00:00:00.000+02:00'},\n",
       " {'value': 1580258.707,\n",
       "  'percentage': 0.06683653474927836,\n",
       "  'datetime': '2019-07-01T00:00:00.000+02:00'},\n",
       " {'value': 1254839.948,\n",
       "  'percentage': 0.05583724088465403,\n",
       "  'datetime': '2019-08-01T00:00:00.000+02:00'},\n",
       " {'value': 1225077.788,\n",
       "  'percentage': 0.0572903188455083,\n",
       "  'datetime': '2019-09-01T00:00:00.000+02:00'},\n",
       " {'value': 1122321.832,\n",
       "  'percentage': 0.053313971182814605,\n",
       "  'datetime': '2019-10-01T00:00:00.000+02:00'},\n",
       " {'value': 2662286.54,\n",
       "  'percentage': 0.11759440713740868,\n",
       "  'datetime': '2019-11-01T00:00:00.000+01:00'},\n",
       " {'value': 4636390.96,\n",
       "  'percentage': 0.20739946528011186,\n",
       "  'datetime': '2019-12-01T00:00:00.000+01:00'},\n",
       " {'value': 3726052.734,\n",
       "  'percentage': 0.16388932229912265,\n",
       "  'datetime': '2020-01-01T00:00:00.000+01:00'},\n",
       " {'value': 2837911.121,\n",
       "  'percentage': 0.13956065479735857,\n",
       "  'datetime': '2020-02-01T00:00:00.000+01:00'},\n",
       " {'value': 3110807.383,\n",
       "  'percentage': 0.14813521097959728,\n",
       "  'datetime': '2020-03-01T00:00:00.000+01:00'},\n",
       " {'value': 2861130.675,\n",
       "  'percentage': 0.16377330147329436,\n",
       "  'datetime': '2020-04-01T00:00:00.000+02:00'},\n",
       " {'value': 2858050.01,\n",
       "  'percentage': 0.15906511240077956,\n",
       "  'datetime': '2020-05-01T00:00:00.000+02:00'}]"
      ]
     },
     "execution_count": 60,
     "metadata": {},
     "output_type": "execute_result"
    }
   ],
   "source": []
  },
  {
   "cell_type": "code",
   "execution_count": 146,
   "metadata": {},
   "outputs": [
    {
     "name": "stdout",
     "output_type": "stream",
     "text": [
      "['Hydro', 'Pumped storage', 'Nuclear', 'Coal', 'Fuel + Gas', 'Combined cycle', 'Hydroeolian', 'Wind', 'Solar photovoltaic', 'Thermal solar', 'Other renewables', 'Cogeneration', 'Non-renewable waste', 'Renewable waste']\n"
     ]
    }
   ],
   "source": [
    "\n"
   ]
  },
  {
   "cell_type": "code",
   "execution_count": null,
   "metadata": {},
   "outputs": [],
   "source": []
  }
 ],
 "metadata": {
  "kernelspec": {
   "display_name": "Python 3",
   "language": "python",
   "name": "python3"
  },
  "language_info": {
   "codemirror_mode": {
    "name": "ipython",
    "version": 3
   },
   "file_extension": ".py",
   "mimetype": "text/x-python",
   "name": "python",
   "nbconvert_exporter": "python",
   "pygments_lexer": "ipython3",
   "version": "3.8.3"
  }
 },
 "nbformat": 4,
 "nbformat_minor": 4
}
