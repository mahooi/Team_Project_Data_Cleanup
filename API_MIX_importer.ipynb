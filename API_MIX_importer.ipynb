{
 "cells": [
  {
   "cell_type": "markdown",
   "metadata": {},
   "source": [
    "Task: Data extraction through API (data source: Electrica De Espana)\n",
    "Source: https://www.ree.es/es/apidatos"
   ]
  },
  {
   "cell_type": "code",
   "execution_count": null,
   "metadata": {},
   "outputs": [],
   "source": [
    "import pandas as pd\n",
    "import requests\n",
    "import json\n",
    "import pymysql as py"
   ]
  },
  {
   "cell_type": "code",
   "execution_count": null,
   "metadata": {},
   "outputs": [],
   "source": [
    "def mix_generation(start_date, end_date):\n",
    "    #Enter the start_date and end_date in the following format: YYYY-MM-DDTHH:MM\n",
    "    \n",
    "    # API get request\n",
    "    response = requests.get(f\"https://apidatos.ree.es/en/datos/generacion/estructura-generacion?start_date={start_date}&end_date={end_date}&time_trunc=day\")\n",
    "    response_json = response.json()\n",
    "    data = response_json\n",
    "\n",
    "    # We drop the info that we do not need\n",
    "    data = data[\"included\"]\n",
    "    \n",
    "    # Create an empty DataFrame with the info that we need\n",
    "    df = pd.DataFrame(columns=['Type', 'Value', 'Date', 'Percentage'])\n",
    "    \n",
    "    # For each type we are accessing to convert the values into dataframe that will be concatenated with our empty df\n",
    "    for t in data:\n",
    "        desc = t[\"type\"]\n",
    "        values_list = t[\"attributes\"][\"values\"]\n",
    "        df_values = (pd.DataFrame(values_list)\n",
    "                     .assign(Type=desc)\n",
    "                     .rename(columns={\"type\": \"Type\",\n",
    "                                      \"value\": \"Value\",\n",
    "                                      \"datetime\": \"Date\",\n",
    "                                      \"percentage\": \"Percentage\"}))\n",
    "        df = pd.concat([df, df_values])\n",
    "\n",
    "    # Drop the columns that we do not need\n",
    "    df = df.reset_index(drop=True)\n",
    "\n",
    "    # Modify the date type\n",
    "    df['Date'] = pd.to_datetime(df[\"Date\"],format='%Y-%m')\n",
    "    return df"
   ]
  },
  {
   "cell_type": "code",
   "execution_count": null,
   "metadata": {},
   "outputs": [],
   "source": [
    "# Get the data for 2020 and 2019\n",
    "mix_20 = mix_generation(\"2020-01-01T00:00\", \"2020-06-15T00:00\")\n",
    "mix_19 = mix_generation(\"2019-01-01T00:00\", \"2019-06-15T00:00\")"
   ]
  },
  {
   "cell_type": "code",
   "execution_count": null,
   "metadata": {},
   "outputs": [],
   "source": [
    "# Export the data in a .csv format\n",
    "mix_20 = mix_20.to_csv(\"clean_db/Mix-Generation_2020.csv\", index=False)\n",
    "mix_19 = mix_19.to_csv(\"clean_db/Mix-Generation_2019.csv\", index=False)"
   ]
  }
 ],
 "metadata": {
  "kernelspec": {
   "display_name": "Python 3",
   "language": "python",
   "name": "python3"
  },
  "language_info": {
   "codemirror_mode": {
    "name": "ipython",
    "version": 3
   },
   "file_extension": ".py",
   "mimetype": "text/x-python",
   "name": "python",
   "nbconvert_exporter": "python",
   "pygments_lexer": "ipython3",
   "version": "3.8.3"
  }
 },
 "nbformat": 4,
 "nbformat_minor": 4
}
