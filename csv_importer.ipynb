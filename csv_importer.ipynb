{
 "cells": [
  {
   "cell_type": "markdown",
   "metadata": {},
   "source": [
    "# CSV importer\n",
    "\n",
    "Source: https://ourworldindata.org/policy-responses-covid"
   ]
  },
  {
   "cell_type": "code",
   "execution_count": null,
   "metadata": {},
   "outputs": [],
   "source": [
    "import pandas as pd\n",
    "import matplotlib as plt\n",
    "\n",
    "# Locate the csv file and read it\n",
    "url = '../butter_team_project/initial_db/stay-at-home-covid.csv'\n",
    "sh = pd.read_csv(url, sep = ',', index_col = False)\n",
    "\n",
    "# Export data filtered by country to .csv\n",
    "def export_data_country(country):\n",
    "    by_country = sh['Country']==country\n",
    "    sh[by_country].to_csv(\"clean_db/stay-at-home_clean.csv\", sep = \",\", index=False)\n",
    "    return 'Successfully exported as .csv'\n",
    "\n",
    "# Create a dictionary for the requirements so we can add their description with the map method\n",
    "sh_description = {0: 'No measures', 1: 'Recommended not to leave the house', 2: 'Required to not leave the house with exceptions for daily exercise, grocery shopping, and essential trips', 3: 'Required to not leave the house with minimal exceptions (e.g. allowed to leave only once every few days, or only one person can leave at a time, etc.'}\n",
    "\n",
    "sh['Description'] = sh['Stay at home requirements (OxBSG)'].map(sh_description)\n",
    "sh.head()\n",
    "\n",
    "# Rename the columns\n",
    "sh = sh.rename({'Stay at home requirements (OxBSG)': 'Status'}, axis=1)\n",
    "sh = sh.rename({'Entity': 'Country'}, axis=1)\n",
    "\n",
    "#Dropping \"codes\" column\n",
    "sh = sh.drop(['Code'], axis=1)\n",
    "\n",
    "#Fixing Data format\n",
    "sh[\"Date\"] = pd.to_datetime(sh[\"Date\"])\n",
    "\n",
    "sh.head()"
   ]
  },
  {
   "cell_type": "markdown",
   "metadata": {},
   "source": [
    "## Call the function to export as a .csv"
   ]
  },
  {
   "cell_type": "code",
   "execution_count": null,
   "metadata": {},
   "outputs": [],
   "source": [
    "# Call the function to Export the data as csv\n",
    "export_data_country(\"Spain\")"
   ]
  },
  {
   "cell_type": "markdown",
   "metadata": {},
   "source": [
    "## Legacy code"
   ]
  },
  {
   "cell_type": "code",
   "execution_count": null,
   "metadata": {},
   "outputs": [],
   "source": [
    "#Plotting function\n",
    "def check_status (country):\n",
    "    status_plot = sh.loc[sh[\"country\"] == country]\n",
    "    status_plot.plot()\n",
    "    \n",
    "check_status (\"Spain\")"
   ]
  }
 ],
 "metadata": {
  "kernelspec": {
   "display_name": "Python 3",
   "language": "python",
   "name": "python3"
  },
  "language_info": {
   "codemirror_mode": {
    "name": "ipython",
    "version": 3
   },
   "file_extension": ".py",
   "mimetype": "text/x-python",
   "name": "python",
   "nbconvert_exporter": "python",
   "pygments_lexer": "ipython3",
   "version": "3.8.3"
  }
 },
 "nbformat": 4,
 "nbformat_minor": 4
}
